{
 "cells": [
  {
   "cell_type": "markdown",
   "metadata": {},
   "source": [
    "---\n",
    "title : 'A default-analysis of customer records for a credit card company'\n",
    "author: \n",
    "- Sunil PRAKASH\n",
    "- Gaelan GU\n",
    "- Ethiraj SRINIVASAN\n",
    "- Suma MULPURU\n",
    "abstract: |\n",
    "Fitting the SVM model for prediction of default of customers in \"No\" and \"Yes\", using the other variables as predictors.\n",
    "date: \\today\n",
    "---\n",
    "\n",
    "# Requirements\n",
    "\n",
    "1. Randomly pick 80% of the data to train SVM\n",
    "2. Try using two different kinds of kernels\n",
    "3. For each of the models from above, use tune() function to find the best set of\n",
    "parameters (i.e: gamma, cost)\n",
    "4. Using your trained SVM for predication on the test data (20% of the given data set),\n",
    "and summarize the accuracy of different models with different settings.\n",
    "5. Instead of using all the three variables (student, balance, income) as predictors, use\n",
    "two of them to build SVM models and compare the performances of different\n",
    "combinations.\n",
    "\n",
    "\n",
    "## Data & Package Imports"
   ]
  },
  {
   "cell_type": "code",
   "execution_count": 1,
   "metadata": {
    "collapsed": false
   },
   "outputs": [
    {
     "name": "stderr",
     "output_type": "stream",
     "text": [
      "Loading required package: lattice\n",
      "Loading required package: ggplot2\n"
     ]
    },
    {
     "data": {
      "text/plain": [
       " default    student       balance           income     \n",
       " No :9667   No :7056   Min.   :   0.0   Min.   :  772  \n",
       " Yes: 333   Yes:2944   1st Qu.: 481.7   1st Qu.:21340  \n",
       "                       Median : 823.6   Median :34553  \n",
       "                       Mean   : 835.4   Mean   :33517  \n",
       "                       3rd Qu.:1166.3   3rd Qu.:43808  \n",
       "                       Max.   :2654.3   Max.   :73554  "
      ]
     },
     "metadata": {},
     "output_type": "display_data"
    }
   ],
   "source": [
    "#install.packages(\"ISLR\")\n",
    "library(ISLR)\n",
    "#install.packages(\"e1071\")\n",
    "library(e1071)\n",
    "#install.packages(\"caret\")\n",
    "library(caret)\n",
    "#install.packages(\"caTools\")\n",
    "library(caTools)\n",
    "data(Default)\n",
    "summary(Default)"
   ]
  },
  {
   "cell_type": "markdown",
   "metadata": {},
   "source": [
    "We import the necessary packages in order to complete this assignment. The *Default* dataset is taken from the *ISLR* package. We will also deploy SVM from the *e1071* package, to train our model.\n",
    "\n",
    "*caret* and *caTools* are essential packages used to perform various data processes.\n",
    "\n",
    "From the summary of *Default*, there are 3 independent variables (binary variable: *student*, numerical variables *balance* and *income*) and one dependent variable (*default*). We will build a model to predict the *default* variable.\n",
    "\n",
    "\n",
    "## Train-Test Split\n",
    "We randomly pick 80% of the dataset to be the training set, and the rest as the validation set."
   ]
  },
  {
   "cell_type": "code",
   "execution_count": 2,
   "metadata": {
    "collapsed": true
   },
   "outputs": [],
   "source": [
    "set.seed(111)\n",
    "split = sample.split(Default$default, SplitRatio = 0.8)\n",
    "\n",
    "train = subset(Default, split == T)\n",
    "test = subset(Default, split == F)\n",
    "\n",
    "# train and test sets with balance and income only\n",
    "train_bi = train[, c('default', 'balance', 'income')]\n",
    "test_bi = test[, c('default', 'balance', 'income')]\n",
    "\n",
    "# train and test sets with student and balance only\n",
    "train_bs = train[, c('default', 'balance', 'student')]\n",
    "test_bs = test[, c('default', 'balance', 'student')]\n",
    "\n",
    "# train and test sets with student and balance only\n",
    "train_is = train[, c('default', 'income', 'student')]\n",
    "test_is = test[, c('default', 'income', 'student')]"
   ]
  },
  {
   "cell_type": "markdown",
   "metadata": {},
   "source": [
    "In addition, we have created subsets of the training and test sets by only selecting 2 variables each.\n",
    "\n",
    "These subsets will be trained on SVM using both radial and sigmoid kernels. These models will also be tuned to determine the best parameters (cost and gamma) to be used, to optimize training.\n",
    "\n",
    "\n",
    "## Balance & Income Dataset (BI)\n",
    "### Fitting Train Set with SVM with *Radial* Kernel"
   ]
  },
  {
   "cell_type": "code",
   "execution_count": 3,
   "metadata": {
    "collapsed": false
   },
   "outputs": [
    {
     "data": {
      "text/plain": [
       "\n",
       "Call:\n",
       "svm(formula = default ~ ., data = train_bi, kernel = \"radial\", gamma = 1, \n",
       "    cost = 1)\n",
       "\n",
       "\n",
       "Parameters:\n",
       "   SVM-Type:  C-classification \n",
       " SVM-Kernel:  radial \n",
       "       cost:  1 \n",
       "      gamma:  1 \n",
       "\n",
       "Number of Support Vectors:  671\n",
       "\n",
       " ( 435 236 )\n",
       "\n",
       "\n",
       "Number of Classes:  2 \n",
       "\n",
       "Levels: \n",
       " No Yes\n",
       "\n",
       "\n"
      ]
     },
     "metadata": {},
     "output_type": "display_data"
    }
   ],
   "source": [
    "svm_bi1 = svm(default ~ .,\n",
    "           data = train_bi,\n",
    "           kernel = 'radial',\n",
    "           gamma = 1,\n",
    "           cost = 1)\n",
    "\n",
    "summary(svm_bi1)"
   ]
  },
  {
   "cell_type": "markdown",
   "metadata": {},
   "source": [
    "### Tuning of SVM kernel"
   ]
  },
  {
   "cell_type": "code",
   "execution_count": 4,
   "metadata": {
    "collapsed": false
   },
   "outputs": [
    {
     "data": {
      "text/plain": [
       "\n",
       "Parameter tuning of ‘svm’:\n",
       "\n",
       "- sampling method: 5-fold cross validation \n",
       "\n",
       "- best parameters:\n",
       " cost gamma\n",
       "  100   0.5\n",
       "\n",
       "- best performance: 0.0265 \n",
       "\n",
       "- Detailed performance results:\n",
       "    cost gamma    error  dispersion\n",
       "1  1e-01   0.5 0.032875 0.006259368\n",
       "2  1e+00   0.5 0.027750 0.005548085\n",
       "3  1e+01   0.5 0.027125 0.005221650\n",
       "4  1e+02   0.5 0.026500 0.004605533\n",
       "5  1e+03   0.5 0.026750 0.005142501\n",
       "6  1e-01   1.0 0.032375 0.005473659\n",
       "7  1e+00   1.0 0.027000 0.004968652\n",
       "8  1e+01   1.0 0.027125 0.005350964\n",
       "9  1e+02   1.0 0.027000 0.005902859\n",
       "10 1e+03   1.0 0.028375 0.007023955\n",
       "11 1e-01   2.0 0.032500 0.005812836\n",
       "12 1e+00   2.0 0.027375 0.005785893\n",
       "13 1e+01   2.0 0.027250 0.005369183\n",
       "14 1e+02   2.0 0.028875 0.007672496\n",
       "15 1e+03   2.0 0.029625 0.008156190\n",
       "16 1e-01   3.0 0.033000 0.006486163\n",
       "17 1e+00   3.0 0.027625 0.005886292\n",
       "18 1e+01   3.0 0.028125 0.007043392\n",
       "19 1e+02   3.0 0.030125 0.008494024\n",
       "20 1e+03   3.0 0.030625 0.008489424\n",
       "21 1e-01   4.0 0.033500 0.006608470\n",
       "22 1e+00   4.0 0.027875 0.006101357\n",
       "23 1e+01   4.0 0.028875 0.007898279\n",
       "24 1e+02   4.0 0.031000 0.008599146\n",
       "25 1e+03   4.0 0.030000 0.007806247\n"
      ]
     },
     "metadata": {},
     "output_type": "display_data"
    }
   ],
   "source": [
    "set.seed(111)\n",
    "\n",
    "tune_out_bi1 = tune(svm,\n",
    "                 default ~ .,\n",
    "                 data = train_bi,\n",
    "                 kernel = 'radial',\n",
    "                 ranges = list(cost = c(0.1, 1, 10, 100, 1000),\n",
    "                               gamma = c(0.5, 1, 2, 3, 4)),\n",
    "                 tunecontrol = tune.control(sampling = 'cross',\n",
    "                                            cross = 5))\n",
    "\n",
    "summary(tune_out_bi1)"
   ]
  },
  {
   "cell_type": "markdown",
   "metadata": {},
   "source": [
    "After tuning, we discover that the best parameters are cost = 100 and gamma = 0.5."
   ]
  },
  {
   "cell_type": "code",
   "execution_count": 5,
   "metadata": {
    "collapsed": false
   },
   "outputs": [
    {
     "data": {
      "text/plain": [
       "\n",
       "Call:\n",
       "best.tune(method = svm, train.x = default ~ ., data = train_bi, ranges = list(cost = c(0.1, \n",
       "    1, 10, 100, 1000), gamma = c(0.5, 1, 2, 3, 4)), tunecontrol = tune.control(sampling = \"cross\", \n",
       "    cross = 5), kernel = \"radial\")\n",
       "\n",
       "\n",
       "Parameters:\n",
       "   SVM-Type:  C-classification \n",
       " SVM-Kernel:  radial \n",
       "       cost:  100 \n",
       "      gamma:  0.5 \n",
       "\n",
       "Number of Support Vectors:  540\n",
       "\n",
       " ( 314 226 )\n",
       "\n",
       "\n",
       "Number of Classes:  2 \n",
       "\n",
       "Levels: \n",
       " No Yes\n",
       "\n",
       "\n"
      ]
     },
     "metadata": {},
     "output_type": "display_data"
    }
   ],
   "source": [
    "bestmod_bi1 = tune_out_bi1$best.model\n",
    "summary(bestmod_bi1)"
   ]
  },
  {
   "cell_type": "markdown",
   "metadata": {},
   "source": [
    "### Confusion Matrix"
   ]
  },
  {
   "cell_type": "code",
   "execution_count": 6,
   "metadata": {
    "collapsed": false
   },
   "outputs": [
    {
     "data": {
      "text/plain": [
       "Confusion Matrix and Statistics\n",
       "\n",
       "          actual\n",
       "prediction   No  Yes\n",
       "       No  1928   53\n",
       "       Yes    5   14\n",
       "                                          \n",
       "               Accuracy : 0.971           \n",
       "                 95% CI : (0.9627, 0.9779)\n",
       "    No Information Rate : 0.9665          \n",
       "    P-Value [Acc > NIR] : 0.1447          \n",
       "                                          \n",
       "                  Kappa : 0.3154          \n",
       " Mcnemar's Test P-Value : 6.769e-10       \n",
       "                                          \n",
       "            Sensitivity : 0.9974          \n",
       "            Specificity : 0.2090          \n",
       "         Pos Pred Value : 0.9732          \n",
       "         Neg Pred Value : 0.7368          \n",
       "             Prevalence : 0.9665          \n",
       "         Detection Rate : 0.9640          \n",
       "   Detection Prevalence : 0.9905          \n",
       "      Balanced Accuracy : 0.6032          \n",
       "                                          \n",
       "       'Positive' Class : No              \n",
       "                                          "
      ]
     },
     "metadata": {},
     "output_type": "display_data"
    }
   ],
   "source": [
    "# CM on Test Set\n",
    "newpred_bi_test1 = predict(bestmod_bi1, test_bi)\n",
    "confusionMatrix(table(prediction = newpred_bi_test1,\n",
    "                      actual = test_bi$default))"
   ]
  },
  {
   "cell_type": "markdown",
   "metadata": {},
   "source": [
    "**97.1%** accuracy on test set achieved.\n",
    "\n",
    "\n",
    "### Fitting Train Set with SVM with *Sigmoid* Kernel"
   ]
  },
  {
   "cell_type": "code",
   "execution_count": 7,
   "metadata": {
    "collapsed": false
   },
   "outputs": [
    {
     "data": {
      "text/plain": [
       "\n",
       "Call:\n",
       "svm(formula = default ~ ., data = train_bi, kernel = \"sigmoid\", gamma = 1, \n",
       "    cost = 1)\n",
       "\n",
       "\n",
       "Parameters:\n",
       "   SVM-Type:  C-classification \n",
       " SVM-Kernel:  sigmoid \n",
       "       cost:  1 \n",
       "      gamma:  1 \n",
       "     coef.0:  0 \n",
       "\n",
       "Number of Support Vectors:  501\n",
       "\n",
       " ( 251 250 )\n",
       "\n",
       "\n",
       "Number of Classes:  2 \n",
       "\n",
       "Levels: \n",
       " No Yes\n",
       "\n",
       "\n"
      ]
     },
     "metadata": {},
     "output_type": "display_data"
    }
   ],
   "source": [
    "svm_bi2 = svm(default ~ .,\n",
    "           data = train_bi,\n",
    "           kernel = 'sigmoid',\n",
    "           gamma = 1,\n",
    "           cost = 1)\n",
    "\n",
    "summary(svm_bi2)"
   ]
  },
  {
   "cell_type": "markdown",
   "metadata": {},
   "source": [
    "### Tuning of SVM Kernel"
   ]
  },
  {
   "cell_type": "code",
   "execution_count": 8,
   "metadata": {
    "collapsed": false
   },
   "outputs": [
    {
     "data": {
      "text/plain": [
       "\n",
       "Parameter tuning of ‘svm’:\n",
       "\n",
       "- sampling method: 5-fold cross validation \n",
       "\n",
       "- best parameters:\n",
       " cost gamma\n",
       "  0.1   0.5\n",
       "\n",
       "- best performance: 0.042875 \n",
       "\n",
       "- Detailed performance results:\n",
       "    cost gamma    error  dispersion\n",
       "1  1e-01   0.5 0.042875 0.005495026\n",
       "2  1e+00   0.5 0.052625 0.006379900\n",
       "3  1e+01   0.5 0.053875 0.007199718\n",
       "4  1e+02   0.5 0.053875 0.007062777\n",
       "5  1e+03   0.5 0.054000 0.007323443\n",
       "6  1e-01   1.0 0.045375 0.006519202\n",
       "7  1e+00   1.0 0.057875 0.008071942\n",
       "8  1e+01   1.0 0.060250 0.006274950\n",
       "9  1e+02   1.0 0.060250 0.006274950\n",
       "10 1e+03   1.0 0.060250 0.006274950\n",
       "11 1e-01   2.0 0.044500 0.007426725\n",
       "12 1e+00   2.0 0.060500 0.008141810\n",
       "13 1e+01   2.0 0.062375 0.007569986\n",
       "14 1e+02   2.0 0.063000 0.007710585\n",
       "15 1e+03   2.0 0.063125 0.007868549\n",
       "16 1e-01   3.0 0.045375 0.006855085\n",
       "17 1e+00   3.0 0.058750 0.006774839\n",
       "18 1e+01   3.0 0.061375 0.006937218\n",
       "19 1e+02   3.0 0.061375 0.006780602\n",
       "20 1e+03   3.0 0.061375 0.006780602\n",
       "21 1e-01   4.0 0.044375 0.005519851\n",
       "22 1e+00   4.0 0.060875 0.007283329\n",
       "23 1e+01   4.0 0.061375 0.006425657\n",
       "24 1e+02   4.0 0.061625 0.006459005\n",
       "25 1e+03   4.0 0.061625 0.006459005\n"
      ]
     },
     "metadata": {},
     "output_type": "display_data"
    }
   ],
   "source": [
    "set.seed(111)\n",
    "\n",
    "tune_out_bi2 = tune(svm,\n",
    "                 default ~ .,\n",
    "                 data = train_bi,\n",
    "                 kernel = 'sigmoid',\n",
    "                 ranges = list(cost = c(0.1, 1, 10, 100, 1000),\n",
    "                               gamma = c(0.5, 1, 2, 3, 4)),\n",
    "                 tunecontrol = tune.control(sampling = 'cross',\n",
    "                                            cross = 5))\n",
    "\n",
    "summary(tune_out_bi2)"
   ]
  },
  {
   "cell_type": "markdown",
   "metadata": {},
   "source": [
    "After tuning, the best parameters are cost = 0.1 and gamma = 0.5."
   ]
  },
  {
   "cell_type": "code",
   "execution_count": 9,
   "metadata": {
    "collapsed": false
   },
   "outputs": [
    {
     "data": {
      "text/plain": [
       "\n",
       "Call:\n",
       "best.tune(method = svm, train.x = default ~ ., data = train_bi, ranges = list(cost = c(0.1, \n",
       "    1, 10, 100, 1000), gamma = c(0.5, 1, 2, 3, 4)), tunecontrol = tune.control(sampling = \"cross\", \n",
       "    cross = 5), kernel = \"sigmoid\")\n",
       "\n",
       "\n",
       "Parameters:\n",
       "   SVM-Type:  C-classification \n",
       " SVM-Kernel:  sigmoid \n",
       "       cost:  0.1 \n",
       "      gamma:  0.5 \n",
       "     coef.0:  0 \n",
       "\n",
       "Number of Support Vectors:  521\n",
       "\n",
       " ( 261 260 )\n",
       "\n",
       "\n",
       "Number of Classes:  2 \n",
       "\n",
       "Levels: \n",
       " No Yes\n",
       "\n",
       "\n"
      ]
     },
     "metadata": {},
     "output_type": "display_data"
    }
   ],
   "source": [
    "bestmod_bi2 = tune_out_bi2$best.model\n",
    "summary(bestmod_bi2)"
   ]
  },
  {
   "cell_type": "markdown",
   "metadata": {},
   "source": [
    "### Confusion Matrix"
   ]
  },
  {
   "cell_type": "code",
   "execution_count": 10,
   "metadata": {
    "collapsed": false
   },
   "outputs": [
    {
     "data": {
      "text/plain": [
       "Confusion Matrix and Statistics\n",
       "\n",
       "          actual\n",
       "prediction   No  Yes\n",
       "       No  1892   63\n",
       "       Yes   41    4\n",
       "                                          \n",
       "               Accuracy : 0.948           \n",
       "                 95% CI : (0.9373, 0.9573)\n",
       "    No Information Rate : 0.9665          \n",
       "    P-Value [Acc > NIR] : 0.99999         \n",
       "                                          \n",
       "                  Kappa : 0.0457          \n",
       " Mcnemar's Test P-Value : 0.03947         \n",
       "                                          \n",
       "            Sensitivity : 0.97879         \n",
       "            Specificity : 0.05970         \n",
       "         Pos Pred Value : 0.96777         \n",
       "         Neg Pred Value : 0.08889         \n",
       "             Prevalence : 0.96650         \n",
       "         Detection Rate : 0.94600         \n",
       "   Detection Prevalence : 0.97750         \n",
       "      Balanced Accuracy : 0.51925         \n",
       "                                          \n",
       "       'Positive' Class : No              \n",
       "                                          "
      ]
     },
     "metadata": {},
     "output_type": "display_data"
    }
   ],
   "source": [
    "# CM on Test Set\n",
    "newpred_bi_test2 = predict(bestmod_bi2, test_bi)\n",
    "confusionMatrix(table(prediction = newpred_bi_test2,\n",
    "                      actual = test_bi$default))"
   ]
  },
  {
   "cell_type": "markdown",
   "metadata": {},
   "source": [
    "Accuracy of **94.8%** achieved on test set.\n",
    "\n",
    "\n",
    "## Balance & Student Dataset (BS)\n",
    "### Fitting Train Set with SVM with *Radial* Kernel"
   ]
  },
  {
   "cell_type": "code",
   "execution_count": 11,
   "metadata": {
    "collapsed": false
   },
   "outputs": [
    {
     "data": {
      "text/plain": [
       "\n",
       "Call:\n",
       "svm(formula = default ~ ., data = train_bs, kernel = \"radial\", gamma = 1, \n",
       "    cost = 1)\n",
       "\n",
       "\n",
       "Parameters:\n",
       "   SVM-Type:  C-classification \n",
       " SVM-Kernel:  radial \n",
       "       cost:  1 \n",
       "      gamma:  1 \n",
       "\n",
       "Number of Support Vectors:  577\n",
       "\n",
       " ( 343 234 )\n",
       "\n",
       "\n",
       "Number of Classes:  2 \n",
       "\n",
       "Levels: \n",
       " No Yes\n",
       "\n",
       "\n"
      ]
     },
     "metadata": {},
     "output_type": "display_data"
    }
   ],
   "source": [
    "svm_bs1 = svm(default ~ .,\n",
    "           data = train_bs,\n",
    "           kernel = 'radial',\n",
    "           gamma = 1,\n",
    "           cost = 1)\n",
    "\n",
    "summary(svm_bs1)"
   ]
  },
  {
   "cell_type": "markdown",
   "metadata": {},
   "source": [
    "\n",
    "### Tuning of SVM Kernel"
   ]
  },
  {
   "cell_type": "code",
   "execution_count": 12,
   "metadata": {
    "collapsed": false
   },
   "outputs": [
    {
     "data": {
      "text/plain": [
       "\n",
       "Parameter tuning of ‘svm’:\n",
       "\n",
       "- sampling method: 5-fold cross validation \n",
       "\n",
       "- best parameters:\n",
       " cost gamma\n",
       " 1000     1\n",
       "\n",
       "- best performance: 0.026875 \n",
       "\n",
       "- Detailed performance results:\n",
       "    cost gamma    error  dispersion\n",
       "1  1e-01   0.5 0.031750 0.005785893\n",
       "2  1e+00   0.5 0.027000 0.005491471\n",
       "3  1e+01   0.5 0.027250 0.005240318\n",
       "4  1e+02   0.5 0.027250 0.004812906\n",
       "5  1e+03   0.5 0.027500 0.005000000\n",
       "6  1e-01   1.0 0.029000 0.005704302\n",
       "7  1e+00   1.0 0.027250 0.005240318\n",
       "8  1e+01   1.0 0.027250 0.005240318\n",
       "9  1e+02   1.0 0.027250 0.005512769\n",
       "10 1e+03   1.0 0.026875 0.005711146\n",
       "11 1e-01   2.0 0.028500 0.005277458\n",
       "12 1e+00   2.0 0.027125 0.005477226\n",
       "13 1e+01   2.0 0.027125 0.005906167\n",
       "14 1e+02   2.0 0.027375 0.005968668\n",
       "15 1e+03   2.0 0.028125 0.006903351\n",
       "16 1e-01   3.0 0.028625 0.004968652\n",
       "17 1e+00   3.0 0.027125 0.005906167\n",
       "18 1e+01   3.0 0.027375 0.005968668\n",
       "19 1e+02   3.0 0.028000 0.006649718\n",
       "20 1e+03   3.0 0.027750 0.006459005\n",
       "21 1e-01   4.0 0.029250 0.005255206\n",
       "22 1e+00   4.0 0.027375 0.005968668\n",
       "23 1e+01   4.0 0.027625 0.005902859\n",
       "24 1e+02   4.0 0.028000 0.006965316\n",
       "25 1e+03   4.0 0.027750 0.007376589\n"
      ]
     },
     "metadata": {},
     "output_type": "display_data"
    }
   ],
   "source": [
    "set.seed(111)\n",
    "\n",
    "tune_out_bs1 = tune(svm,\n",
    "                 default ~ .,\n",
    "                 data = train_bs,\n",
    "                 kernel = 'radial',\n",
    "                 ranges = list(cost = c(0.1, 1, 10, 100, 1000),\n",
    "                               gamma = c(0.5, 1, 2, 3, 4)),\n",
    "                 tunecontrol = tune.control(sampling = 'cross',\n",
    "                                            cross = 5))\n",
    "\n",
    "summary(tune_out_bs1)"
   ]
  },
  {
   "cell_type": "markdown",
   "metadata": {},
   "source": [
    "\n",
    "Best parameters are cost = 1000 and gamma = 1."
   ]
  },
  {
   "cell_type": "code",
   "execution_count": 13,
   "metadata": {
    "collapsed": false
   },
   "outputs": [
    {
     "data": {
      "text/plain": [
       "\n",
       "Call:\n",
       "best.tune(method = svm, train.x = default ~ ., data = train_bs, ranges = list(cost = c(0.1, \n",
       "    1, 10, 100, 1000), gamma = c(0.5, 1, 2, 3, 4)), tunecontrol = tune.control(sampling = \"cross\", \n",
       "    cross = 5), kernel = \"radial\")\n",
       "\n",
       "\n",
       "Parameters:\n",
       "   SVM-Type:  C-classification \n",
       " SVM-Kernel:  radial \n",
       "       cost:  1000 \n",
       "      gamma:  1 \n",
       "\n",
       "Number of Support Vectors:  480\n",
       "\n",
       " ( 256 224 )\n",
       "\n",
       "\n",
       "Number of Classes:  2 \n",
       "\n",
       "Levels: \n",
       " No Yes\n",
       "\n",
       "\n"
      ]
     },
     "metadata": {},
     "output_type": "display_data"
    }
   ],
   "source": [
    "bestmod_bs1 = tune_out_bs1$best.model\n",
    "summary(bestmod_bs1)"
   ]
  },
  {
   "cell_type": "markdown",
   "metadata": {},
   "source": [
    "\n",
    "### Confusion Matrix"
   ]
  },
  {
   "cell_type": "code",
   "execution_count": 14,
   "metadata": {
    "collapsed": false
   },
   "outputs": [
    {
     "data": {
      "text/plain": [
       "Confusion Matrix and Statistics\n",
       "\n",
       "          actual\n",
       "prediction   No  Yes\n",
       "       No  1928   52\n",
       "       Yes    5   15\n",
       "                                          \n",
       "               Accuracy : 0.9715          \n",
       "                 95% CI : (0.9632, 0.9783)\n",
       "    No Information Rate : 0.9665          \n",
       "    P-Value [Acc > NIR] : 0.1172          \n",
       "                                          \n",
       "                  Kappa : 0.3346          \n",
       " Mcnemar's Test P-Value : 1.109e-09       \n",
       "                                          \n",
       "            Sensitivity : 0.9974          \n",
       "            Specificity : 0.2239          \n",
       "         Pos Pred Value : 0.9737          \n",
       "         Neg Pred Value : 0.7500          \n",
       "             Prevalence : 0.9665          \n",
       "         Detection Rate : 0.9640          \n",
       "   Detection Prevalence : 0.9900          \n",
       "      Balanced Accuracy : 0.6106          \n",
       "                                          \n",
       "       'Positive' Class : No              \n",
       "                                          "
      ]
     },
     "metadata": {},
     "output_type": "display_data"
    }
   ],
   "source": [
    "# CM on Test Set\n",
    "newpred_bs_test1 = predict(bestmod_bs1, test_bs)\n",
    "confusionMatrix(table(prediction = newpred_bs_test1,\n",
    "                      actual = test_bs$default))"
   ]
  },
  {
   "cell_type": "markdown",
   "metadata": {},
   "source": [
    "Accuracy of **97.2%** achieved on test set.\n",
    "\n",
    "\n",
    "### Fitting Train Set with SVM with *Sigmoid* Kernel"
   ]
  },
  {
   "cell_type": "code",
   "execution_count": 15,
   "metadata": {
    "collapsed": false
   },
   "outputs": [
    {
     "data": {
      "text/plain": [
       "\n",
       "Call:\n",
       "svm(formula = default ~ ., data = train_bs, kernel = \"sigmoid\", gamma = 1, \n",
       "    cost = 1)\n",
       "\n",
       "\n",
       "Parameters:\n",
       "   SVM-Type:  C-classification \n",
       " SVM-Kernel:  sigmoid \n",
       "       cost:  1 \n",
       "      gamma:  1 \n",
       "     coef.0:  0 \n",
       "\n",
       "Number of Support Vectors:  371\n",
       "\n",
       " ( 186 185 )\n",
       "\n",
       "\n",
       "Number of Classes:  2 \n",
       "\n",
       "Levels: \n",
       " No Yes\n",
       "\n",
       "\n"
      ]
     },
     "metadata": {},
     "output_type": "display_data"
    }
   ],
   "source": [
    "svm_bs2 = svm(default ~ .,\n",
    "           data = train_bs,\n",
    "           kernel = 'sigmoid',\n",
    "           gamma = 1,\n",
    "           cost = 1)\n",
    "\n",
    "summary(svm_bs2)"
   ]
  },
  {
   "cell_type": "markdown",
   "metadata": {},
   "source": [
    "\n",
    "### Tuning of SVM Kernel"
   ]
  },
  {
   "cell_type": "code",
   "execution_count": 16,
   "metadata": {
    "collapsed": false
   },
   "outputs": [
    {
     "data": {
      "text/plain": [
       "\n",
       "Parameter tuning of ‘svm’:\n",
       "\n",
       "- sampling method: 5-fold cross validation \n",
       "\n",
       "- best parameters:\n",
       " cost gamma\n",
       "  0.1     2\n",
       "\n",
       "- best performance: 0.0325 \n",
       "\n",
       "- Detailed performance results:\n",
       "    cost gamma    error  dispersion\n",
       "1  1e-01   0.5 0.033250 0.006364575\n",
       "2  1e+00   0.5 0.037750 0.007863583\n",
       "3  1e+01   0.5 0.041625 0.005789268\n",
       "4  1e+02   0.5 0.046875 0.008160978\n",
       "5  1e+03   0.5 0.050625 0.007967218\n",
       "6  1e-01   1.0 0.033250 0.006364575\n",
       "7  1e+00   1.0 0.033750 0.004571481\n",
       "8  1e+01   1.0 0.051125 0.007621413\n",
       "9  1e+02   1.0 0.061375 0.009136551\n",
       "10 1e+03   1.0 0.060500 0.010801837\n",
       "11 1e-01   2.0 0.032500 0.006234355\n",
       "12 1e+00   2.0 0.034125 0.004321097\n",
       "13 1e+01   2.0 0.044000 0.003660388\n",
       "14 1e+02   2.0 0.044125 0.003765593\n",
       "15 1e+03   2.0 0.044250 0.003888083\n",
       "16 1e-01   3.0 0.033250 0.006364575\n",
       "17 1e+00   3.0 0.038875 0.004293891\n",
       "18 1e+01   3.0 0.049875 0.012834585\n",
       "19 1e+02   3.0 0.050750 0.014013108\n",
       "20 1e+03   3.0 0.050875 0.013972629\n",
       "21 1e-01   4.0 0.033250 0.006364575\n",
       "22 1e+00   4.0 0.039000 0.006413487\n",
       "23 1e+01   4.0 0.050500 0.012925568\n",
       "24 1e+02   4.0 0.050875 0.012644478\n",
       "25 1e+03   4.0 0.050875 0.012644478\n"
      ]
     },
     "metadata": {},
     "output_type": "display_data"
    }
   ],
   "source": [
    "set.seed(111)\n",
    "\n",
    "tune_out_bs2 = tune(svm,\n",
    "                 default ~ .,\n",
    "                 data = train_bs,\n",
    "                 kernel = 'sigmoid',\n",
    "                 ranges = list(cost = c(0.1, 1, 10, 100, 1000),\n",
    "                               gamma = c(0.5, 1, 2, 3, 4)),\n",
    "                 tunecontrol = tune.control(sampling = 'cross',\n",
    "                                            cross = 5))\n",
    "\n",
    "summary(tune_out_bs2)"
   ]
  },
  {
   "cell_type": "markdown",
   "metadata": {},
   "source": [
    "Best parameters are cost = 0.1 and gamma = 2."
   ]
  },
  {
   "cell_type": "code",
   "execution_count": 17,
   "metadata": {
    "collapsed": false
   },
   "outputs": [
    {
     "data": {
      "text/plain": [
       "\n",
       "Call:\n",
       "best.tune(method = svm, train.x = default ~ ., data = train_bs, ranges = list(cost = c(0.1, \n",
       "    1, 10, 100, 1000), gamma = c(0.5, 1, 2, 3, 4)), tunecontrol = tune.control(sampling = \"cross\", \n",
       "    cross = 5), kernel = \"sigmoid\")\n",
       "\n",
       "\n",
       "Parameters:\n",
       "   SVM-Type:  C-classification \n",
       " SVM-Kernel:  sigmoid \n",
       "       cost:  0.1 \n",
       "      gamma:  2 \n",
       "     coef.0:  0 \n",
       "\n",
       "Number of Support Vectors:  533\n",
       "\n",
       " ( 267 266 )\n",
       "\n",
       "\n",
       "Number of Classes:  2 \n",
       "\n",
       "Levels: \n",
       " No Yes\n",
       "\n",
       "\n"
      ]
     },
     "metadata": {},
     "output_type": "display_data"
    }
   ],
   "source": [
    "bestmod_bs2 = tune_out_bs2$best.model\n",
    "summary(bestmod_bs2)"
   ]
  },
  {
   "cell_type": "markdown",
   "metadata": {},
   "source": [
    "### Confusion Matrix"
   ]
  },
  {
   "cell_type": "code",
   "execution_count": 18,
   "metadata": {
    "collapsed": false
   },
   "outputs": [
    {
     "data": {
      "text/plain": [
       "Confusion Matrix and Statistics\n",
       "\n",
       "          actual\n",
       "prediction   No  Yes\n",
       "       No  1932   63\n",
       "       Yes    1    4\n",
       "                                          \n",
       "               Accuracy : 0.968           \n",
       "                 95% CI : (0.9593, 0.9753)\n",
       "    No Information Rate : 0.9665          \n",
       "    P-Value [Acc > NIR] : 0.3847          \n",
       "                                          \n",
       "                  Kappa : 0.107           \n",
       " Mcnemar's Test P-Value : 2.44e-14        \n",
       "                                          \n",
       "            Sensitivity : 0.9995          \n",
       "            Specificity : 0.0597          \n",
       "         Pos Pred Value : 0.9684          \n",
       "         Neg Pred Value : 0.8000          \n",
       "             Prevalence : 0.9665          \n",
       "         Detection Rate : 0.9660          \n",
       "   Detection Prevalence : 0.9975          \n",
       "      Balanced Accuracy : 0.5296          \n",
       "                                          \n",
       "       'Positive' Class : No              \n",
       "                                          "
      ]
     },
     "metadata": {},
     "output_type": "display_data"
    }
   ],
   "source": [
    "# CM on Test Set\n",
    "newpred_bs_test2 = predict(bestmod_bs2, test_bs)\n",
    "confusionMatrix(table(prediction = newpred_bs_test2,\n",
    "                      actual = test_bs$default))"
   ]
  },
  {
   "cell_type": "markdown",
   "metadata": {},
   "source": [
    "Accuracy of **96.8%** achieved on test set.\n",
    "\n",
    "\n",
    "## Income & Student Dataset (IS)\n",
    "### Fitting Train Set with SVM with *Radial* Kernel"
   ]
  },
  {
   "cell_type": "code",
   "execution_count": 19,
   "metadata": {
    "collapsed": false
   },
   "outputs": [
    {
     "data": {
      "text/plain": [
       "\n",
       "Call:\n",
       "svm(formula = default ~ ., data = train_is, kernel = \"radial\", gamma = 1, \n",
       "    cost = 1)\n",
       "\n",
       "\n",
       "Parameters:\n",
       "   SVM-Type:  C-classification \n",
       " SVM-Kernel:  radial \n",
       "       cost:  1 \n",
       "      gamma:  1 \n",
       "\n",
       "Number of Support Vectors:  612\n",
       "\n",
       " ( 346 266 )\n",
       "\n",
       "\n",
       "Number of Classes:  2 \n",
       "\n",
       "Levels: \n",
       " No Yes\n",
       "\n",
       "\n"
      ]
     },
     "metadata": {},
     "output_type": "display_data"
    }
   ],
   "source": [
    "svm_is1 = svm(default ~ .,\n",
    "           data = train_is,\n",
    "           kernel = 'radial',\n",
    "           gamma = 1,\n",
    "           cost = 1)\n",
    "\n",
    "summary(svm_is1)"
   ]
  },
  {
   "cell_type": "markdown",
   "metadata": {},
   "source": [
    "### Tuning of SVM Kernel"
   ]
  },
  {
   "cell_type": "code",
   "execution_count": 20,
   "metadata": {
    "collapsed": false
   },
   "outputs": [
    {
     "data": {
      "text/plain": [
       "\n",
       "Parameter tuning of ‘svm’:\n",
       "\n",
       "- sampling method: 5-fold cross validation \n",
       "\n",
       "- best parameters:\n",
       " cost gamma\n",
       "  0.1   0.5\n",
       "\n",
       "- best performance: 0.03325 \n",
       "\n",
       "- Detailed performance results:\n",
       "    cost gamma   error  dispersion\n",
       "1  1e-01   0.5 0.03325 0.006364575\n",
       "2  1e+00   0.5 0.03325 0.006364575\n",
       "3  1e+01   0.5 0.03325 0.006364575\n",
       "4  1e+02   0.5 0.03325 0.006364575\n",
       "5  1e+03   0.5 0.03325 0.006364575\n",
       "6  1e-01   1.0 0.03325 0.006364575\n",
       "7  1e+00   1.0 0.03325 0.006364575\n",
       "8  1e+01   1.0 0.03325 0.006364575\n",
       "9  1e+02   1.0 0.03325 0.006364575\n",
       "10 1e+03   1.0 0.03325 0.006364575\n",
       "11 1e-01   2.0 0.03325 0.006364575\n",
       "12 1e+00   2.0 0.03325 0.006364575\n",
       "13 1e+01   2.0 0.03325 0.006364575\n",
       "14 1e+02   2.0 0.03325 0.006364575\n",
       "15 1e+03   2.0 0.03325 0.006364575\n",
       "16 1e-01   3.0 0.03325 0.006364575\n",
       "17 1e+00   3.0 0.03325 0.006364575\n",
       "18 1e+01   3.0 0.03325 0.006364575\n",
       "19 1e+02   3.0 0.03325 0.006364575\n",
       "20 1e+03   3.0 0.03325 0.006364575\n",
       "21 1e-01   4.0 0.03325 0.006364575\n",
       "22 1e+00   4.0 0.03325 0.006364575\n",
       "23 1e+01   4.0 0.03325 0.006364575\n",
       "24 1e+02   4.0 0.03325 0.006364575\n",
       "25 1e+03   4.0 0.03325 0.006364575\n"
      ]
     },
     "metadata": {},
     "output_type": "display_data"
    }
   ],
   "source": [
    "set.seed(111)\n",
    "\n",
    "tune_out_is1 = tune(svm,\n",
    "                 default ~ .,\n",
    "                 data = train_is,\n",
    "                 kernel = 'radial',\n",
    "                 ranges = list(cost = c(0.1, 1, 10, 100, 1000),\n",
    "                               gamma = c(0.5, 1, 2, 3, 4)),\n",
    "                 tunecontrol = tune.control(sampling = 'cross',\n",
    "                                            cross = 5))\n",
    "\n",
    "summary(tune_out_is1)"
   ]
  },
  {
   "cell_type": "markdown",
   "metadata": {},
   "source": [
    "Best parameters are cost = 0.1 and gamma = 0.5."
   ]
  },
  {
   "cell_type": "code",
   "execution_count": 21,
   "metadata": {
    "collapsed": false
   },
   "outputs": [
    {
     "data": {
      "text/plain": [
       "\n",
       "Call:\n",
       "best.tune(method = svm, train.x = default ~ ., data = train_is, ranges = list(cost = c(0.1, \n",
       "    1, 10, 100, 1000), gamma = c(0.5, 1, 2, 3, 4)), tunecontrol = tune.control(sampling = \"cross\", \n",
       "    cross = 5), kernel = \"radial\")\n",
       "\n",
       "\n",
       "Parameters:\n",
       "   SVM-Type:  C-classification \n",
       " SVM-Kernel:  radial \n",
       "       cost:  0.1 \n",
       "      gamma:  0.5 \n",
       "\n",
       "Number of Support Vectors:  553\n",
       "\n",
       " ( 287 266 )\n",
       "\n",
       "\n",
       "Number of Classes:  2 \n",
       "\n",
       "Levels: \n",
       " No Yes\n",
       "\n",
       "\n"
      ]
     },
     "metadata": {},
     "output_type": "display_data"
    }
   ],
   "source": [
    "bestmod_is1 = tune_out_is1$best.model\n",
    "summary(bestmod_is1)"
   ]
  },
  {
   "cell_type": "markdown",
   "metadata": {},
   "source": [
    "### Confusion Matrix"
   ]
  },
  {
   "cell_type": "code",
   "execution_count": 22,
   "metadata": {
    "collapsed": false
   },
   "outputs": [
    {
     "data": {
      "text/plain": [
       "Confusion Matrix and Statistics\n",
       "\n",
       "          actual\n",
       "prediction   No  Yes\n",
       "       No  1933   67\n",
       "       Yes    0    0\n",
       "                                          \n",
       "               Accuracy : 0.9665          \n",
       "                 95% CI : (0.9576, 0.9739)\n",
       "    No Information Rate : 0.9665          \n",
       "    P-Value [Acc > NIR] : 0.5324          \n",
       "                                          \n",
       "                  Kappa : 0               \n",
       " Mcnemar's Test P-Value : 7.433e-16       \n",
       "                                          \n",
       "            Sensitivity : 1.0000          \n",
       "            Specificity : 0.0000          \n",
       "         Pos Pred Value : 0.9665          \n",
       "         Neg Pred Value :    NaN          \n",
       "             Prevalence : 0.9665          \n",
       "         Detection Rate : 0.9665          \n",
       "   Detection Prevalence : 1.0000          \n",
       "      Balanced Accuracy : 0.5000          \n",
       "                                          \n",
       "       'Positive' Class : No              \n",
       "                                          "
      ]
     },
     "metadata": {},
     "output_type": "display_data"
    }
   ],
   "source": [
    "# CM on Test Set\n",
    "newpred_is_test1 = predict(bestmod_is1, test_is)\n",
    "confusionMatrix(table(prediction = newpred_is_test1,\n",
    "                      actual = test_is$default))"
   ]
  },
  {
   "cell_type": "markdown",
   "metadata": {},
   "source": [
    "Accuracy of **96.7%** achieved on test set.\n",
    "\n",
    "\n",
    "### Fitting Train Set with SVM with *Sigmoid* Kernel"
   ]
  },
  {
   "cell_type": "code",
   "execution_count": 23,
   "metadata": {
    "collapsed": false
   },
   "outputs": [
    {
     "data": {
      "text/plain": [
       "\n",
       "Call:\n",
       "svm(formula = default ~ ., data = train_is, kernel = \"sigmoid\", gamma = 1, \n",
       "    cost = 1)\n",
       "\n",
       "\n",
       "Parameters:\n",
       "   SVM-Type:  C-classification \n",
       " SVM-Kernel:  sigmoid \n",
       "       cost:  1 \n",
       "      gamma:  1 \n",
       "     coef.0:  0 \n",
       "\n",
       "Number of Support Vectors:  533\n",
       "\n",
       " ( 267 266 )\n",
       "\n",
       "\n",
       "Number of Classes:  2 \n",
       "\n",
       "Levels: \n",
       " No Yes\n",
       "\n",
       "\n"
      ]
     },
     "metadata": {},
     "output_type": "display_data"
    }
   ],
   "source": [
    "svm_is2 = svm(default ~ .,\n",
    "           data = train_is,\n",
    "           kernel = 'sigmoid',\n",
    "           gamma = 1,\n",
    "           cost = 1)\n",
    "\n",
    "summary(svm_is2)"
   ]
  },
  {
   "cell_type": "markdown",
   "metadata": {},
   "source": [
    "### Tuning of SVM Kernel"
   ]
  },
  {
   "cell_type": "code",
   "execution_count": 24,
   "metadata": {
    "collapsed": false
   },
   "outputs": [
    {
     "data": {
      "text/plain": [
       "\n",
       "Parameter tuning of ‘svm’:\n",
       "\n",
       "- sampling method: 5-fold cross validation \n",
       "\n",
       "- best parameters:\n",
       " cost gamma\n",
       "  0.1   0.5\n",
       "\n",
       "- best performance: 0.036 \n",
       "\n",
       "- Detailed performance results:\n",
       "    cost gamma    error  dispersion\n",
       "1  1e-01   0.5 0.036000 0.005350964\n",
       "2  1e+00   0.5 0.056000 0.007662306\n",
       "3  1e+01   0.5 0.061875 0.008648970\n",
       "4  1e+02   0.5 0.065625 0.002724312\n",
       "5  1e+03   0.5 0.066750 0.002592055\n",
       "6  1e-01   1.0 0.036375 0.005919380\n",
       "7  1e+00   1.0 0.054000 0.013481759\n",
       "8  1e+01   1.0 0.056250 0.013506364\n",
       "9  1e+02   1.0 0.064125 0.005165238\n",
       "10 1e+03   1.0 0.064250 0.004909334\n",
       "11 1e-01   2.0 0.037375 0.007062777\n",
       "12 1e+00   2.0 0.055750 0.015215894\n",
       "13 1e+01   2.0 0.063500 0.011722708\n",
       "14 1e+02   2.0 0.067500 0.008232462\n",
       "15 1e+03   2.0 0.068000 0.007634216\n",
       "16 1e-01   3.0 0.037500 0.007084865\n",
       "17 1e+00   3.0 0.055875 0.015023419\n",
       "18 1e+01   3.0 0.065250 0.005441450\n",
       "19 1e+02   3.0 0.066750 0.003937996\n",
       "20 1e+03   3.0 0.066875 0.003671044\n",
       "21 1e-01   4.0 0.040625 0.008184876\n",
       "22 1e+00   4.0 0.056750 0.015893936\n",
       "23 1e+01   4.0 0.066500 0.006474107\n",
       "24 1e+02   4.0 0.068000 0.005579679\n",
       "25 1e+03   4.0 0.068000 0.005579679\n"
      ]
     },
     "metadata": {},
     "output_type": "display_data"
    }
   ],
   "source": [
    "set.seed(111)\n",
    "\n",
    "tune_out_is2 = tune(svm,\n",
    "                 default ~ .,\n",
    "                 data = train_is,\n",
    "                 kernel = 'sigmoid',\n",
    "                 ranges = list(cost = c(0.1, 1, 10, 100, 1000),\n",
    "                               gamma = c(0.5, 1, 2, 3, 4)),\n",
    "                 tunecontrol = tune.control(sampling = 'cross',\n",
    "                                            cross = 5))\n",
    "\n",
    "summary(tune_out_is2)"
   ]
  },
  {
   "cell_type": "markdown",
   "metadata": {},
   "source": [
    "Best parameters are cost = 0.1 and gamma = 0.5.\n"
   ]
  },
  {
   "cell_type": "code",
   "execution_count": 25,
   "metadata": {
    "collapsed": false
   },
   "outputs": [
    {
     "data": {
      "text/plain": [
       "\n",
       "Call:\n",
       "best.tune(method = svm, train.x = default ~ ., data = train_is, ranges = list(cost = c(0.1, \n",
       "    1, 10, 100, 1000), gamma = c(0.5, 1, 2, 3, 4)), tunecontrol = tune.control(sampling = \"cross\", \n",
       "    cross = 5), kernel = \"sigmoid\")\n",
       "\n",
       "\n",
       "Parameters:\n",
       "   SVM-Type:  C-classification \n",
       " SVM-Kernel:  sigmoid \n",
       "       cost:  0.1 \n",
       "      gamma:  0.5 \n",
       "     coef.0:  0 \n",
       "\n",
       "Number of Support Vectors:  534\n",
       "\n",
       " ( 268 266 )\n",
       "\n",
       "\n",
       "Number of Classes:  2 \n",
       "\n",
       "Levels: \n",
       " No Yes\n",
       "\n",
       "\n"
      ]
     },
     "metadata": {},
     "output_type": "display_data"
    }
   ],
   "source": [
    "bestmod_is2 = tune_out_is2$best.model\n",
    "summary(bestmod_is2)"
   ]
  },
  {
   "cell_type": "markdown",
   "metadata": {},
   "source": [
    "### Confusion Matrix"
   ]
  },
  {
   "cell_type": "code",
   "execution_count": 26,
   "metadata": {
    "collapsed": false
   },
   "outputs": [
    {
     "data": {
      "text/plain": [
       "Confusion Matrix and Statistics\n",
       "\n",
       "          actual\n",
       "prediction   No  Yes\n",
       "       No  1932   67\n",
       "       Yes    1    0\n",
       "                                          \n",
       "               Accuracy : 0.966           \n",
       "                 95% CI : (0.9571, 0.9735)\n",
       "    No Information Rate : 0.9665          \n",
       "    P-Value [Acc > NIR] : 0.5812          \n",
       "                                          \n",
       "                  Kappa : -0.001          \n",
       " Mcnemar's Test P-Value : 3.211e-15       \n",
       "                                          \n",
       "            Sensitivity : 0.9995          \n",
       "            Specificity : 0.0000          \n",
       "         Pos Pred Value : 0.9665          \n",
       "         Neg Pred Value : 0.0000          \n",
       "             Prevalence : 0.9665          \n",
       "         Detection Rate : 0.9660          \n",
       "   Detection Prevalence : 0.9995          \n",
       "      Balanced Accuracy : 0.4997          \n",
       "                                          \n",
       "       'Positive' Class : No              \n",
       "                                          "
      ]
     },
     "metadata": {},
     "output_type": "display_data"
    }
   ],
   "source": [
    "# CM on Test Set\n",
    "newpred_is_test2 = predict(bestmod_is2, test_is)\n",
    "confusionMatrix(table(prediction = newpred_is_test2,\n",
    "                      actual = test_is$default))"
   ]
  },
  {
   "cell_type": "markdown",
   "metadata": {},
   "source": [
    "Accuracy of **96.7%** achieved on test set.\n",
    "\n",
    "\n",
    "## Full Training Dataset (ALL)\n",
    "### Fitting Train Set with SVM with *Radial* Kernel"
   ]
  },
  {
   "cell_type": "code",
   "execution_count": 27,
   "metadata": {
    "collapsed": false
   },
   "outputs": [
    {
     "data": {
      "text/plain": [
       "\n",
       "Call:\n",
       "svm(formula = default ~ ., data = train, kernel = \"radial\", gamma = 1, \n",
       "    cost = 1)\n",
       "\n",
       "\n",
       "Parameters:\n",
       "   SVM-Type:  C-classification \n",
       " SVM-Kernel:  radial \n",
       "       cost:  1 \n",
       "      gamma:  1 \n",
       "\n",
       "Number of Support Vectors:  691\n",
       "\n",
       " ( 453 238 )\n",
       "\n",
       "\n",
       "Number of Classes:  2 \n",
       "\n",
       "Levels: \n",
       " No Yes\n",
       "\n",
       "\n"
      ]
     },
     "metadata": {},
     "output_type": "display_data"
    }
   ],
   "source": [
    "svm_all1 = svm(default ~ .,\n",
    "           data = train,\n",
    "           kernel = 'radial',\n",
    "           gamma = 1,\n",
    "           cost = 1)\n",
    "\n",
    "summary(svm_all1)"
   ]
  },
  {
   "cell_type": "markdown",
   "metadata": {},
   "source": [
    "### Tuning of SVM Kernel"
   ]
  },
  {
   "cell_type": "code",
   "execution_count": 28,
   "metadata": {
    "collapsed": false
   },
   "outputs": [
    {
     "data": {
      "text/plain": [
       "\n",
       "Parameter tuning of ‘svm’:\n",
       "\n",
       "- sampling method: 5-fold cross validation \n",
       "\n",
       "- best parameters:\n",
       " cost gamma\n",
       "   10     2\n",
       "\n",
       "- best performance: 0.026625 \n",
       "\n",
       "- Detailed performance results:\n",
       "    cost gamma    error  dispersion\n",
       "1  1e-01   0.5 0.033250 0.006364575\n",
       "2  1e+00   0.5 0.027250 0.005822907\n",
       "3  1e+01   0.5 0.027375 0.005123475\n",
       "4  1e+02   0.5 0.026750 0.004558646\n",
       "5  1e+03   0.5 0.026875 0.005625000\n",
       "6  1e-01   1.0 0.033000 0.006256247\n",
       "7  1e+00   1.0 0.027250 0.005240318\n",
       "8  1e+01   1.0 0.027250 0.005295930\n",
       "9  1e+02   1.0 0.027125 0.006149187\n",
       "10 1e+03   1.0 0.028250 0.007400380\n",
       "11 1e-01   2.0 0.033125 0.006327643\n",
       "12 1e+00   2.0 0.027375 0.005785893\n",
       "13 1e+01   2.0 0.026625 0.005806112\n",
       "14 1e+02   2.0 0.028750 0.007447735\n",
       "15 1e+03   2.0 0.030750 0.007531185\n",
       "16 1e-01   3.0 0.033375 0.006826534\n",
       "17 1e+00   3.0 0.027875 0.006101357\n",
       "18 1e+01   3.0 0.028000 0.007090376\n",
       "19 1e+02   3.0 0.030500 0.008354920\n",
       "20 1e+03   3.0 0.031250 0.008291562\n",
       "21 1e-01   4.0 0.033375 0.006652655\n",
       "22 1e+00   4.0 0.028000 0.006066043\n",
       "23 1e+01   4.0 0.029500 0.007582875\n",
       "24 1e+02   4.0 0.030875 0.008484821\n",
       "25 1e+03   4.0 0.030500 0.008033135\n"
      ]
     },
     "metadata": {},
     "output_type": "display_data"
    }
   ],
   "source": [
    "set.seed(111)\n",
    "\n",
    "tune_out_all1 = tune(svm,\n",
    "                 default ~ .,\n",
    "                 data = train,\n",
    "                 kernel = 'radial',\n",
    "                 ranges = list(cost = c(0.1, 1, 10, 100, 1000),\n",
    "                               gamma = c(0.5, 1, 2, 3, 4)),\n",
    "                 tunecontrol = tune.control(sampling = 'cross',\n",
    "                                            cross = 5))\n",
    "\n",
    "summary(tune_out_all1)"
   ]
  },
  {
   "cell_type": "markdown",
   "metadata": {},
   "source": [
    "Best parameters are cost = 10 and gamma = 2."
   ]
  },
  {
   "cell_type": "code",
   "execution_count": 29,
   "metadata": {
    "collapsed": false
   },
   "outputs": [
    {
     "data": {
      "text/plain": [
       "\n",
       "Call:\n",
       "best.tune(method = svm, train.x = default ~ ., data = train, ranges = list(cost = c(0.1, \n",
       "    1, 10, 100, 1000), gamma = c(0.5, 1, 2, 3, 4)), tunecontrol = tune.control(sampling = \"cross\", \n",
       "    cross = 5), kernel = \"radial\")\n",
       "\n",
       "\n",
       "Parameters:\n",
       "   SVM-Type:  C-classification \n",
       " SVM-Kernel:  radial \n",
       "       cost:  10 \n",
       "      gamma:  2 \n",
       "\n",
       "Number of Support Vectors:  741\n",
       "\n",
       " ( 513 228 )\n",
       "\n",
       "\n",
       "Number of Classes:  2 \n",
       "\n",
       "Levels: \n",
       " No Yes\n",
       "\n",
       "\n"
      ]
     },
     "metadata": {},
     "output_type": "display_data"
    }
   ],
   "source": [
    "bestmod_all1 = tune_out_all1$best.model\n",
    "summary(bestmod_all1)"
   ]
  },
  {
   "cell_type": "markdown",
   "metadata": {},
   "source": [
    "\n",
    "### Confusion Matrix"
   ]
  },
  {
   "cell_type": "code",
   "execution_count": 30,
   "metadata": {
    "collapsed": false
   },
   "outputs": [
    {
     "data": {
      "text/plain": [
       "Confusion Matrix and Statistics\n",
       "\n",
       "          actual\n",
       "prediction   No  Yes\n",
       "       No  1928   52\n",
       "       Yes    5   15\n",
       "                                          \n",
       "               Accuracy : 0.9715          \n",
       "                 95% CI : (0.9632, 0.9783)\n",
       "    No Information Rate : 0.9665          \n",
       "    P-Value [Acc > NIR] : 0.1172          \n",
       "                                          \n",
       "                  Kappa : 0.3346          \n",
       " Mcnemar's Test P-Value : 1.109e-09       \n",
       "                                          \n",
       "            Sensitivity : 0.9974          \n",
       "            Specificity : 0.2239          \n",
       "         Pos Pred Value : 0.9737          \n",
       "         Neg Pred Value : 0.7500          \n",
       "             Prevalence : 0.9665          \n",
       "         Detection Rate : 0.9640          \n",
       "   Detection Prevalence : 0.9900          \n",
       "      Balanced Accuracy : 0.6106          \n",
       "                                          \n",
       "       'Positive' Class : No              \n",
       "                                          "
      ]
     },
     "metadata": {},
     "output_type": "display_data"
    }
   ],
   "source": [
    "# CM on Test Set\n",
    "newpred_all_test1 = predict(bestmod_all1, test)\n",
    "confusionMatrix(table(prediction = newpred_all_test1,\n",
    "                      actual = test$default))"
   ]
  },
  {
   "cell_type": "markdown",
   "metadata": {},
   "source": [
    "Accuracy of **97.2%** achieved on test set.\n",
    "\n",
    "\n",
    "### Fitting Train Set with SVM with *Sigmoid* Kernel"
   ]
  },
  {
   "cell_type": "code",
   "execution_count": 31,
   "metadata": {
    "collapsed": false
   },
   "outputs": [
    {
     "data": {
      "text/plain": [
       "\n",
       "Call:\n",
       "svm(formula = default ~ ., data = train, kernel = \"sigmoid\", gamma = 1, \n",
       "    cost = 1)\n",
       "\n",
       "\n",
       "Parameters:\n",
       "   SVM-Type:  C-classification \n",
       " SVM-Kernel:  sigmoid \n",
       "       cost:  1 \n",
       "      gamma:  1 \n",
       "     coef.0:  0 \n",
       "\n",
       "Number of Support Vectors:  500\n",
       "\n",
       " ( 250 250 )\n",
       "\n",
       "\n",
       "Number of Classes:  2 \n",
       "\n",
       "Levels: \n",
       " No Yes\n",
       "\n",
       "\n"
      ]
     },
     "metadata": {},
     "output_type": "display_data"
    }
   ],
   "source": [
    "svm_all2 = svm(default ~ .,\n",
    "           data = train,\n",
    "           kernel = 'sigmoid',\n",
    "           gamma = 1,\n",
    "           cost = 1)\n",
    "\n",
    "summary(svm_all2)"
   ]
  },
  {
   "cell_type": "markdown",
   "metadata": {},
   "source": [
    "### Tuning of SVM Kernel"
   ]
  },
  {
   "cell_type": "code",
   "execution_count": 32,
   "metadata": {
    "collapsed": false
   },
   "outputs": [
    {
     "data": {
      "text/plain": [
       "\n",
       "Parameter tuning of ‘svm’:\n",
       "\n",
       "- sampling method: 5-fold cross validation \n",
       "\n",
       "- best parameters:\n",
       " cost gamma\n",
       "  0.1   0.5\n",
       "\n",
       "- best performance: 0.041875 \n",
       "\n",
       "- Detailed performance results:\n",
       "    cost gamma    error  dispersion\n",
       "1  1e-01   0.5 0.041875 0.005779138\n",
       "2  1e+00   0.5 0.048750 0.005096721\n",
       "3  1e+01   0.5 0.050125 0.004406139\n",
       "4  1e+02   0.5 0.050250 0.004298437\n",
       "5  1e+03   0.5 0.050250 0.004298437\n",
       "6  1e-01   1.0 0.044750 0.005441450\n",
       "7  1e+00   1.0 0.058625 0.008642193\n",
       "8  1e+01   1.0 0.060750 0.008608226\n",
       "9  1e+02   1.0 0.060750 0.008459462\n",
       "10 1e+03   1.0 0.060000 0.006903351\n",
       "11 1e-01   2.0 0.044000 0.006608470\n",
       "12 1e+00   2.0 0.060250 0.007161638\n",
       "13 1e+01   2.0 0.062000 0.007710585\n",
       "14 1e+02   2.0 0.062250 0.007826238\n",
       "15 1e+03   2.0 0.062375 0.007848666\n",
       "16 1e-01   3.0 0.045000 0.006945660\n",
       "17 1e+00   3.0 0.060250 0.006290494\n",
       "18 1e+01   3.0 0.062000 0.005199159\n",
       "19 1e+02   3.0 0.062000 0.005199159\n",
       "20 1e+03   3.0 0.062125 0.005314338\n",
       "21 1e-01   4.0 0.044625 0.005922679\n",
       "22 1e+00   4.0 0.061000 0.007023955\n",
       "23 1e+01   4.0 0.063125 0.007167091\n",
       "24 1e+02   4.0 0.063375 0.007079349\n",
       "25 1e+03   4.0 0.063375 0.007079349\n"
      ]
     },
     "metadata": {},
     "output_type": "display_data"
    }
   ],
   "source": [
    "set.seed(111)\n",
    "\n",
    "tune_out_all2 = tune(svm,\n",
    "                 default ~ .,\n",
    "                 data = train,\n",
    "                 kernel = 'sigmoid',\n",
    "                 ranges = list(cost = c(0.1, 1, 10, 100, 1000),\n",
    "                               gamma = c(0.5, 1, 2, 3, 4)),\n",
    "                 tunecontrol = tune.control(sampling = 'cross',\n",
    "                                            cross = 5))\n",
    "\n",
    "summary(tune_out_all2)"
   ]
  },
  {
   "cell_type": "markdown",
   "metadata": {},
   "source": [
    "Best parameters are cost = 0.1 and gamma = 0.5."
   ]
  },
  {
   "cell_type": "code",
   "execution_count": 33,
   "metadata": {
    "collapsed": false
   },
   "outputs": [
    {
     "data": {
      "text/plain": [
       "\n",
       "Call:\n",
       "best.tune(method = svm, train.x = default ~ ., data = train, ranges = list(cost = c(0.1, \n",
       "    1, 10, 100, 1000), gamma = c(0.5, 1, 2, 3, 4)), tunecontrol = tune.control(sampling = \"cross\", \n",
       "    cross = 5), kernel = \"sigmoid\")\n",
       "\n",
       "\n",
       "Parameters:\n",
       "   SVM-Type:  C-classification \n",
       " SVM-Kernel:  sigmoid \n",
       "       cost:  0.1 \n",
       "      gamma:  0.5 \n",
       "     coef.0:  0 \n",
       "\n",
       "Number of Support Vectors:  520\n",
       "\n",
       " ( 260 260 )\n",
       "\n",
       "\n",
       "Number of Classes:  2 \n",
       "\n",
       "Levels: \n",
       " No Yes\n",
       "\n",
       "\n"
      ]
     },
     "metadata": {},
     "output_type": "display_data"
    }
   ],
   "source": [
    "bestmod_all2 = tune_out_all2$best.model\n",
    "summary(bestmod_all2)"
   ]
  },
  {
   "cell_type": "markdown",
   "metadata": {},
   "source": [
    "\n",
    "### Confusion Matrix"
   ]
  },
  {
   "cell_type": "code",
   "execution_count": 34,
   "metadata": {
    "collapsed": false
   },
   "outputs": [
    {
     "data": {
      "text/plain": [
       "Confusion Matrix and Statistics\n",
       "\n",
       "          actual\n",
       "prediction   No  Yes\n",
       "       No  1899   62\n",
       "       Yes   34    5\n",
       "                                          \n",
       "               Accuracy : 0.952           \n",
       "                 95% CI : (0.9417, 0.9609)\n",
       "    No Information Rate : 0.9665          \n",
       "    P-Value [Acc > NIR] : 0.999733        \n",
       "                                          \n",
       "                  Kappa : 0.0714          \n",
       " Mcnemar's Test P-Value : 0.005857        \n",
       "                                          \n",
       "            Sensitivity : 0.98241         \n",
       "            Specificity : 0.07463         \n",
       "         Pos Pred Value : 0.96838         \n",
       "         Neg Pred Value : 0.12821         \n",
       "             Prevalence : 0.96650         \n",
       "         Detection Rate : 0.94950         \n",
       "   Detection Prevalence : 0.98050         \n",
       "      Balanced Accuracy : 0.52852         \n",
       "                                          \n",
       "       'Positive' Class : No              \n",
       "                                          "
      ]
     },
     "metadata": {},
     "output_type": "display_data"
    }
   ],
   "source": [
    "# CM on Test Set\n",
    "newpred_all_test2 = predict(bestmod_all2, test)\n",
    "confusionMatrix(table(prediction = newpred_all_test2,\n",
    "                      actual = test$default))"
   ]
  },
  {
   "cell_type": "markdown",
   "metadata": {},
   "source": [
    "Accuracy of **95.2%** achieved on test set.\n",
    "\n",
    "\n",
    "## Conclusion\n",
    "We compare the best parameters of the tuned models in the following table:\n",
    "\n",
    "\n",
    "\n",
    "\n",
    "\n",
    "We are aware that the smaller the cost, the larger the margin and the more support vectors there will be. As for gamma, the higher it is, the more it allows the SVM to capture the shape of the data but there might be a risk of overfitting. There is also a large margin in our best model, which would explain the large number of support vectors.\n",
    "\n",
    "\n",
    "We summarize the performances of the SVM kernels in the table below:\n",
    "\n",
    "\n",
    "\n",
    "\n",
    "The radial basis kernel has the better performance as compared to the sigmoid kernel. We also discovered that our accuracy rates are noticeably higher when using the BS dataset, which implies that the *student* variable is a more effective predictor than *income*.\n"
   ]
  }
 ],
 "metadata": {
  "kernelspec": {
   "display_name": "R",
   "language": "R",
   "name": "ir"
  },
  "language_info": {
   "codemirror_mode": "r",
   "file_extension": ".r",
   "mimetype": "text/x-r-source",
   "name": "R",
   "pygments_lexer": "r",
   "version": "3.3.2"
  },
  "widgets": {
   "state": {},
   "version": "1.1.2"
  }
 },
 "nbformat": 4,
 "nbformat_minor": 2
}
